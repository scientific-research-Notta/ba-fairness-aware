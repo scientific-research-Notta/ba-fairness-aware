{
 "cells": [
  {
   "cell_type": "code",
   "execution_count": 1,
   "metadata": {},
   "outputs": [],
   "source": [
    "#Import lib\n",
    "import pandas as pd\n",
    "from sklearn.metrics import confusion_matrix\n",
    "from sklearn.metrics import classification_report\n",
    "from sklearn.model_selection import train_test_split\n",
    "from my_useful_functions import calculate_performance_statistical_parity,calculate_performance_equalized_odds,calculate_performance_equal_opportunity,calculate_performance_predictive_parity,calculate_performance_predictive_equality,calculate_performance_treatment_equality\n",
    "from sklearn import preprocessing\n",
    "from sklearn.neighbors import KNeighborsClassifier\n",
    "from compute_abroca import *\n",
    "import numpy as np\n",
    "import sklearn.metrics as metrics \n",
    "from scipy import interpolate\n",
    "from scipy import integrate\n",
    "import matplotlib.pyplot as plt\n",
    "import matplotlib\n",
    "#matplotlib.use('TkAgg')\n",
    "%matplotlib inline\n",
    "import warnings\n",
    "warnings.filterwarnings('ignore')"
   ]
  },
  {
   "cell_type": "code",
   "execution_count": 6,
   "metadata": {},
   "outputs": [],
   "source": [
    "#http://archive.ics.uci.edu/ml/datasets/credit+approval\n",
    "#http://rstudio-pubs-static.s3.amazonaws.com/73039_9946de135c0a49daa7a0a9eda4a67a72.html\n",
    "#https://www.kaggle.com/code/chandanabhatt/prediction-of-credit-approval\n",
    "# Credit approval dataset\n",
    "# $ Male          : num  1 1 0 0 0 0 1 0 0 0 ...\n",
    "# $ Age           : chr  \"58.67\" \"24.50\" \"27.83\" \"20.17\" ...\n",
    "# $ Debt          : num  4.46 0.5 1.54 5.62 4 ...\n",
    "# $ Married       : chr  \"u\" \"u\" \"u\" \"u\" ...\n",
    "# $ BankCustomer  : chr  \"g\" \"g\" \"g\" \"g\" ...\n",
    "# $ EducationLevel: chr  \"q\" \"q\" \"w\" \"w\" ...\n",
    "# $ Ethnicity     : chr  \"h\" \"h\" \"v\" \"v\" ...\n",
    "# $ YearsEmployed : num  3.04 1.5 3.75 1.71 2.5 ...\n",
    "# $ PriorDefault  : num  1 1 1 1 1 1 1 1 1 0 ...\n",
    "# $ Employed      : num  1 0 1 0 0 0 0 0 0 0 ...\n",
    "# $ CreditScore   : num  6 0 5 0 0 0 0 0 0 0 ...\n",
    "# $ DriversLicense: chr  \"f\" \"f\" \"t\" \"f\" ...\n",
    "# $ Citizen       : chr  \"g\" \"g\" \"g\" \"s\" ...\n",
    "# $ ZipCode       : chr  \"00043\" \"00280\" \"00100\" \"00120\" ...\n",
    "# $ Income        : num  560 824 3 0 0 ...\n",
    "# $ Approved      : chr  \"+\" \"+\" \"+\" \"+\" ...\n",
    "\n",
    "def load_credit_approval():\n",
    "    df = pd.read_csv('data/credit-approval.data',sep=\",\")\n",
    "    protected_attribute = 'Male'\n",
    "    majority_group_name = \"Female\"\n",
    "    minority_group_name = \"Male\"\n",
    "    class_label = 'Approved'\n",
    "    filename = \"SVM.credit_approval.abroca.png\"\n",
    "    \n",
    "    df.head(5)\n",
    "    #Remove missing value\n",
    "    df = df[df['Male'] != '?']   \n",
    "    #Label sex\n",
    "    df['Male']=[\"Female\" if v == \"a\" else \"Male\" for v in df['Male']]\n",
    "    #Label class\n",
    "    df['Approved']=[1 if v == \"+\" else 0 for v in df['Approved']]\n",
    "    \n",
    "    le = preprocessing.LabelEncoder()\n",
    "    for i in df.columns:\n",
    "        if df[i].dtypes == 'object':\n",
    "            df[i] = le.fit_transform(df[i])\n",
    "    #Splitting data into train and test\n",
    "    length = len(df.columns)\n",
    "    X = df.iloc[:,:length-1]\n",
    "    y = df[class_label]\n",
    "    X_train, X_test, y_train, y_test = train_test_split(X, y, test_size=0.3, random_state=42) \n",
    "    \n",
    "    #Get index    \n",
    "    feature = X.keys().tolist()    \n",
    "    sa_index = feature.index(protected_attribute)\n",
    "    p_Group = 0 \n",
    "    \n",
    "    return X_train, X_test, y_train, y_test,sa_index, p_Group, protected_attribute, filename,majority_group_name,minority_group_name"
   ]
  },
  {
   "cell_type": "code",
   "execution_count": 7,
   "metadata": {},
   "outputs": [],
   "source": [
    "#Credit card client\n",
    "#Gender (1 = male; 2 = female)\n",
    "def load_credit_card():\n",
    "    df = pd.read_csv('data/credit-card-clients.csv')    \n",
    "    protected_attribute = 'SEX'\n",
    "    majority_group_name = \"Male\"\n",
    "    minority_group_name = \"Female\"\n",
    "    class_label = 'default payment'\n",
    "    filename = \"kNN.credit_card.abroca.png\"   \n",
    "    \n",
    "    #Label sex\n",
    "    df['SEX']=[\"Female\" if v == 2 else \"Male\" for v in df['SEX']]\n",
    "    print(df.head())\n",
    "    #label encode\n",
    "    le = preprocessing.LabelEncoder()\n",
    "    for i in df.columns:\n",
    "        if df[i].dtypes == 'object':\n",
    "            df[i] = le.fit_transform(df[i])\n",
    "    #Splitting data into train and test\n",
    "    length = len(df.columns)\n",
    "    X = df.iloc[:,:length-1]\n",
    "    y = df[class_label]\n",
    "    X_train, X_test, y_train, y_test = train_test_split(X, y, test_size=0.3, random_state=42) \n",
    "    \n",
    "    #Get index    \n",
    "    feature = X.keys().tolist()    \n",
    "    sa_index = feature.index(protected_attribute)\n",
    "    p_Group = 0 \n",
    "    \n",
    "    # return X_train, X_test, y_train, y_test,sa_index, p_Group, protected_attribute, filename,majority_group_name,minority_group_name"
   ]
  },
  {
   "cell_type": "code",
   "execution_count": 8,
   "metadata": {},
   "outputs": [
    {
     "name": "stdout",
     "output_type": "stream",
     "text": [
      "   LIMIT_BAL     SEX  EDUCATION  MARRIAGE  AGE  PAY_0  PAY_2  PAY_3  PAY_4  \\\n",
      "0      20000  Female          2         1   24      2      2     -1     -1   \n",
      "1     120000  Female          2         2   26     -1      2      0      0   \n",
      "2      90000  Female          2         2   34      0      0      0      0   \n",
      "3      50000  Female          2         1   37      0      0      0      0   \n",
      "4      50000    Male          2         1   57     -1      0     -1      0   \n",
      "\n",
      "   PAY_5  ...  BILL_AMT4  BILL_AMT5  BILL_AMT6  PAY_AMT1  PAY_AMT2  PAY_AMT3  \\\n",
      "0     -2  ...          0          0          0         0       689         0   \n",
      "1      0  ...       3272       3455       3261         0      1000      1000   \n",
      "2      0  ...      14331      14948      15549      1518      1500      1000   \n",
      "3      0  ...      28314      28959      29547      2000      2019      1200   \n",
      "4      0  ...      20940      19146      19131      2000     36681     10000   \n",
      "\n",
      "   PAY_AMT4  PAY_AMT5  PAY_AMT6  default payment  \n",
      "0         0         0         0                1  \n",
      "1      1000         0      2000                1  \n",
      "2      1000      1000      5000                0  \n",
      "3      1100      1069      1000                0  \n",
      "4      9000       689       679                0  \n",
      "\n",
      "[5 rows x 24 columns]\n"
     ]
    }
   ],
   "source": [
    "load_credit_card()"
   ]
  },
  {
   "cell_type": "code",
   "execution_count": 3,
   "metadata": {},
   "outputs": [],
   "source": [
    "#German credit\n",
    "def load_german_credit():\n",
    "    df = pd.read_csv('data/german_data_credit.csv')    \n",
    "    protected_attribute = 'sex'\n",
    "    majority_group_name = \"male\"\n",
    "    minority_group_name = \"female\"\n",
    "    class_label = 'class-label'\n",
    "    filename = \"kNN.german_credit.abroca.png\"    \n",
    "    \n",
    "    #label encode\n",
    "    le = preprocessing.LabelEncoder()\n",
    "    for i in df.columns:\n",
    "        if df[i].dtypes == 'object':\n",
    "            df[i] = le.fit_transform(df[i])\n",
    "    #Splitting data into train and test\n",
    "    length = len(df.columns)\n",
    "    X = df.iloc[:,:length-1]\n",
    "    y = df[class_label]\n",
    "    X_train, X_test, y_train, y_test = train_test_split(X, y, test_size=0.3, random_state=42) \n",
    "    \n",
    "    #Get index    \n",
    "    feature = X.keys().tolist()    \n",
    "    print(feature)\n",
    "    sa_index = feature.index(protected_attribute)\n",
    "    p_Group = 0 \n",
    "    \n",
    "    # return X_train[0:2], X_test[0:2], y_train[0:2], y_test[0:2],sa_index, p_Group, protected_attribute, filename,majority_group_name,minority_group_name\n",
    "    return sa_index, p_Group, protected_attribute, filename,majority_group_name,minority_group_name"
   ]
  },
  {
   "cell_type": "code",
   "execution_count": 4,
   "metadata": {},
   "outputs": [
    {
     "name": "stdout",
     "output_type": "stream",
     "text": [
      "['checking-account', 'duration', 'credit-history', 'purpose', 'credit-amount', 'savings-account', 'employment-since', 'installment-rate', 'other-debtors', 'residence-since', 'property', 'age', 'other-installment', 'housing', 'existing-credits', 'job', 'numner-people-provide-maintenance-for', 'telephone', 'foreign-worker', 'sex', 'marital-status']\n"
     ]
    },
    {
     "data": {
      "text/plain": [
       "(19, 0, 'sex', 'kNN.german_credit.abroca.png', 'male', 'female')"
      ]
     },
     "execution_count": 4,
     "metadata": {},
     "output_type": "execute_result"
    }
   ],
   "source": [
    "load_german_credit()"
   ]
  },
  {
   "cell_type": "code",
   "execution_count": 11,
   "metadata": {},
   "outputs": [],
   "source": [
    "def load_PAKDD2010():\n",
    "    df = pd.read_csv('data/PAKDD.csv')    \n",
    "    protected_attribute = 'SEX'\n",
    "    majority_group_name = \"Male\"\n",
    "    minority_group_name = \"Female\"\n",
    "    class_label = 'TARGET_LABEL_BAD'\n",
    "    filename = \"kNN.PAKDD.abroca.png\"    \n",
    "    \n",
    "    #Remove ID\n",
    "    df=df.drop(columns=['ID_CLIENT'])\n",
    "    df =df.dropna()\n",
    "    df=df.drop(columns = ['RESIDENCIAL_PHONE_AREA_CODE','RESIDENCIAL_ZIP_3','PROFESSIONAL_ZIP_3'])\n",
    "    #Label sex\n",
    "    df['SEX']=[\"Female\" if v == \"F\" else \"Male\" for v in df['SEX']]\n",
    "    #label encode\n",
    "    le = preprocessing.LabelEncoder()\n",
    "    for i in df.columns:\n",
    "        if df[i].dtypes == 'object':\n",
    "            df[i] = le.fit_transform(df[i])\n",
    "    #Splitting data into train and test\n",
    "    length = len(df.columns)\n",
    "    X = df.iloc[:,:length-1]\n",
    "    y = df[class_label]\n",
    "    X_train, X_test, y_train, y_test = train_test_split(X, y, test_size=0.3, random_state=42) \n",
    "    \n",
    "    #Get index    \n",
    "    feature = X.keys().tolist()    \n",
    "    sa_index = feature.index(protected_attribute)\n",
    "    p_Group = 0 \n",
    "    \n",
    "    return X_train, X_test, y_train, y_test,sa_index, p_Group, protected_attribute, filename,majority_group_name,minority_group_name"
   ]
  },
  {
   "cell_type": "code",
   "execution_count": 17,
   "metadata": {},
   "outputs": [
    {
     "data": {
      "text/plain": [
       "(       CLERK_TYPE  PAYMENT_DAY  QUANT_ADDITIONAL_CARDS  POSTAL_ADDRESS_TYPE  \\\n",
       " 207             0           10                       0                    1   \n",
       " 44275           0           10                       0                    1   \n",
       " 17619           0           10                       0                    1   \n",
       " 10282           0           10                       0                    1   \n",
       " 36158           0           10                       0                    1   \n",
       " ...           ...          ...                     ...                  ...   \n",
       " 8075            0           20                       0                    1   \n",
       " 14503           0           15                       0                    1   \n",
       " 49033           0           10                       0                    1   \n",
       " 1108            0           10                       0                    1   \n",
       " 20302           0           15                       0                    1   \n",
       " \n",
       "        SEX  MARITAL_STATUS  QUANT_DEPENDANTS  EDUCATION_LEVEL  STATE_OF_BIRTH  \\\n",
       " 207      0               4                 0                0               5   \n",
       " 44275    0               2                 0                0              26   \n",
       " 17619    1               2                 0                0               6   \n",
       " 10282    0               1                 0                0              20   \n",
       " 36158    0               1                 2                0              10   \n",
       " ...    ...             ...               ...              ...             ...   \n",
       " 8075     0               6                 0                0               7   \n",
       " 14503    0               1                 0                0              14   \n",
       " 49033    1               2                 1                0               5   \n",
       " 1108     1               2                 3                0              16   \n",
       " 20302    1               2                 3                0              18   \n",
       " \n",
       "        CITY_OF_BIRTH  ...  MONTHS_IN_THE_JOB  PROFESSION_CODE  \\\n",
       " 207             1530  ...                  0              0.0   \n",
       " 44275           5794  ...                  0              9.0   \n",
       " 17619           1271  ...                  0              9.0   \n",
       " 10282           7430  ...                  0              9.0   \n",
       " 36158            210  ...                  0             12.0   \n",
       " ...              ...  ...                ...              ...   \n",
       " 8075             808  ...                  0              9.0   \n",
       " 14503            565  ...                  0              9.0   \n",
       " 49033           7825  ...                  0              9.0   \n",
       " 1108            7384  ...                  0              9.0   \n",
       " 20302           6928  ...                  0             11.0   \n",
       " \n",
       "        OCCUPATION_TYPE  FLAG_HOME_ADDRESS_DOCUMENT  FLAG_RG  FLAG_CPF  \\\n",
       " 207                0.0                           0        0         0   \n",
       " 44275              5.0                           0        0         0   \n",
       " 17619              4.0                           0        0         0   \n",
       " 10282              1.0                           0        0         0   \n",
       " 36158              2.0                           0        0         0   \n",
       " ...                ...                         ...      ...       ...   \n",
       " 8075               4.0                           0        0         0   \n",
       " 14503              4.0                           0        0         0   \n",
       " 49033              2.0                           0        0         0   \n",
       " 1108               1.0                           0        0         0   \n",
       " 20302              2.0                           0        0         0   \n",
       " \n",
       "        FLAG_INCOME_PROOF  PRODUCT  FLAG_ACSP_RECORD  AGE  \n",
       " 207                    0        1                 0   39  \n",
       " 44275                  0        1                 0   29  \n",
       " 17619                  0        2                 0   34  \n",
       " 10282                  0        1                 0   54  \n",
       " 36158                  0        1                 0   40  \n",
       " ...                  ...      ...               ...  ...  \n",
       " 8075                   0        1                 0   41  \n",
       " 14503                  0        1                 0   46  \n",
       " 49033                  0        1                 0   24  \n",
       " 1108                   0        1                 0   64  \n",
       " 20302                  0        1                 0   36  \n",
       " \n",
       " [27227 rows x 42 columns],\n",
       "        CLERK_TYPE  PAYMENT_DAY  QUANT_ADDITIONAL_CARDS  POSTAL_ADDRESS_TYPE  \\\n",
       " 14048           0           10                       0                    1   \n",
       " 15359           0           15                       0                    1   \n",
       " 24535           0           10                       0                    1   \n",
       " 33655           0           10                       0                    1   \n",
       " 15523           0           25                       0                    2   \n",
       " ...           ...          ...                     ...                  ...   \n",
       " 8245            0           10                       0                    1   \n",
       " 35933           0            5                       0                    1   \n",
       " 22742           0           10                       0                    1   \n",
       " 31510           0           10                       0                    1   \n",
       " 15072           0           10                       0                    1   \n",
       " \n",
       "        SEX  MARITAL_STATUS  QUANT_DEPENDANTS  EDUCATION_LEVEL  STATE_OF_BIRTH  \\\n",
       " 14048    0               1                 0                0               8   \n",
       " 15359    0               2                 2                0              14   \n",
       " 24535    1               2                 0                0              16   \n",
       " 33655    1               1                 0                0               9   \n",
       " 15523    0               2                 2                0               5   \n",
       " ...    ...             ...               ...              ...             ...   \n",
       " 8245     0               1                 0                0               6   \n",
       " 35933    1               1                 0                0               9   \n",
       " 22742    1               6                 0                0               6   \n",
       " 31510    0               2                 1                0              20   \n",
       " 15072    1               2                 0                0              20   \n",
       " \n",
       "        CITY_OF_BIRTH  ...  MONTHS_IN_THE_JOB  PROFESSION_CODE  \\\n",
       " 14048           7596  ...                  0             11.0   \n",
       " 15359           2429  ...                  0              9.0   \n",
       " 24535           5271  ...                  0              9.0   \n",
       " 33655            463  ...                  0              9.0   \n",
       " 15523           5083  ...                  0              9.0   \n",
       " ...              ...  ...                ...              ...   \n",
       " 8245             280  ...                  0              9.0   \n",
       " 35933           2171  ...                  0             13.0   \n",
       " 22742           2213  ...                  0              9.0   \n",
       " 31510           4077  ...                  0              9.0   \n",
       " 15072           4500  ...                  0             11.0   \n",
       " \n",
       "        OCCUPATION_TYPE  FLAG_HOME_ADDRESS_DOCUMENT  FLAG_RG  FLAG_CPF  \\\n",
       " 14048              5.0                           0        0         0   \n",
       " 15359              2.0                           0        0         0   \n",
       " 24535              2.0                           0        0         0   \n",
       " 33655              2.0                           0        0         0   \n",
       " 15523              2.0                           0        0         0   \n",
       " ...                ...                         ...      ...       ...   \n",
       " 8245               4.0                           0        0         0   \n",
       " 35933              2.0                           0        0         0   \n",
       " 22742              1.0                           0        0         0   \n",
       " 31510              5.0                           0        0         0   \n",
       " 15072              1.0                           0        0         0   \n",
       " \n",
       "        FLAG_INCOME_PROOF  PRODUCT  FLAG_ACSP_RECORD  AGE  \n",
       " 14048                  0        1                 0   18  \n",
       " 15359                  0        1                 0   49  \n",
       " 24535                  0        2                 0   23  \n",
       " 33655                  0        2                 0   25  \n",
       " 15523                  0        2                 0   37  \n",
       " ...                  ...      ...               ...  ...  \n",
       " 8245                   0        1                 0   52  \n",
       " 35933                  0        2                 0   23  \n",
       " 22742                  0        1                 0   72  \n",
       " 31510                  0        7                 0   32  \n",
       " 15072                  0        1                 0   50  \n",
       " \n",
       " [11669 rows x 42 columns],\n",
       " 207      1\n",
       " 44275    0\n",
       " 17619    0\n",
       " 10282    0\n",
       " 36158    0\n",
       "         ..\n",
       " 8075     1\n",
       " 14503    0\n",
       " 49033    0\n",
       " 1108     0\n",
       " 20302    0\n",
       " Name: TARGET_LABEL_BAD, Length: 27227, dtype: int64,\n",
       " 14048    0\n",
       " 15359    0\n",
       " 24535    0\n",
       " 33655    0\n",
       " 15523    1\n",
       "         ..\n",
       " 8245     0\n",
       " 35933    0\n",
       " 22742    0\n",
       " 31510    0\n",
       " 15072    0\n",
       " Name: TARGET_LABEL_BAD, Length: 11669, dtype: int64,\n",
       " 4,\n",
       " 0,\n",
       " 'SEX',\n",
       " 'kNN.PAKDD.abroca.png',\n",
       " 'Male',\n",
       " 'Female')"
      ]
     },
     "execution_count": 17,
     "metadata": {},
     "output_type": "execute_result"
    }
   ],
   "source": [
    "load_PAKDD2010()"
   ]
  },
  {
   "cell_type": "code",
   "execution_count": 15,
   "metadata": {},
   "outputs": [],
   "source": [
    "#Credit scoring data\n",
    "#https://www.kaggle.com/code/islombekdavronov/credit-scoring\n",
    "#FinTech companies in Central Asia.\n",
    "def load_credit_scoring():\n",
    "    df = pd.read_csv('data/credit_scoring.csv')    \n",
    "    protected_attribute = 'Sex'\n",
    "    majority_group_name = \"Male\"\n",
    "    minority_group_name = \"Female\"\n",
    "    class_label = 'label'\n",
    "    filename = \"kNN.credit_scoring.abroca.png\"    \n",
    "    \n",
    "    df = df.replace({'-':0})\n",
    "    df['Score_point']=df['Score_point'].astype(float)\n",
    "    #Label sex\n",
    "    df['Sex']=[\"Female\" if v == 2 else \"Male\" for v in df['Sex']]\n",
    "    #label encode\n",
    "    le = preprocessing.LabelEncoder()\n",
    "    for i in df.columns:\n",
    "        if df[i].dtypes == 'object':\n",
    "            df[i] = le.fit_transform(df[i])\n",
    "    #Splitting data into train and test\n",
    "    length = len(df.columns)\n",
    "    X = df.iloc[:,1:length-1]\n",
    "    y = df[class_label]\n",
    "    print(df.iloc[300])\n",
    "    X_train, X_test, y_train, y_test = train_test_split(X, y, test_size=0.3, random_state=42) \n",
    "    \n",
    "    #Get index    \n",
    "    feature = X.keys().tolist()    \n",
    "    sa_index = feature.index(protected_attribute)\n",
    "    p_Group = 0 \n",
    "    \n",
    "    return X_train, X_test, y_train, y_test,sa_index, p_Group, protected_attribute, filename,majority_group_name,minority_group_name"
   ]
  },
  {
   "cell_type": "code",
   "execution_count": 16,
   "metadata": {},
   "outputs": [
    {
     "name": "stdout",
     "output_type": "stream",
     "text": [
      "label                    0.0\n",
      "Age                     35.0\n",
      "Language                 1.0\n",
      "Sex                      0.0\n",
      "Marital                  4.0\n",
      "Has_Credit               1.0\n",
      "Field                    0.0\n",
      "Month_of_birth           6.0\n",
      "Day_of_birth             1.0\n",
      "Region                  12.0\n",
      "Number_of_credits        1.0\n",
      "Linked_cards             1.0\n",
      "INPS_mln_sum             0.2\n",
      "INPS_yes_no              0.0\n",
      "Score_level              0.0\n",
      "Score_class              0.0\n",
      "Score_point              0.0\n",
      "Changed_phone_number     1.0\n",
      "Name: 300, dtype: float64\n"
     ]
    },
    {
     "data": {
      "text/plain": [
       "(      Age  Language  Sex  Marital  Has_Credit  Field  Month_of_birth  \\\n",
       " 1444   71         1    0        4           1     20               7   \n",
       " 1652   27         1    1        7           1     10               2   \n",
       " 7492   27         1    0        6           1     13               3   \n",
       " 1893   42         1    0        4           1      3               6   \n",
       " 3879   55         1    0        4           1     16               6   \n",
       " ...   ...       ...  ...      ...         ...    ...             ...   \n",
       " 5734   40         1    1        5           1     13               8   \n",
       " 5191   40         2    0        4           1     13               2   \n",
       " 5390   62         1    0        4           1     14               5   \n",
       " 860    31         1    1        5           2     16               1   \n",
       " 7270   28         1    1        7           1     13               6   \n",
       " \n",
       "       Day_of_birth  Region  Number_of_credits  Linked_cards  INPS_mln_sum  \\\n",
       " 1444             2      12                  1             2           0.6   \n",
       " 1652             2      13                  1             1           4.3   \n",
       " 7492             2      13                  1             1           1.1   \n",
       " 1893             2      13                  1             2           1.2   \n",
       " 3879             1      13                  2             2           0.4   \n",
       " ...            ...     ...                ...           ...           ...   \n",
       " 5734             1      12                  1             1           4.1   \n",
       " 5191             2      12                  1             1           2.0   \n",
       " 5390             2      13                  1             1           1.8   \n",
       " 860              1       9                  1             1           3.6   \n",
       " 7270             1      13                  1             1           1.6   \n",
       " \n",
       "       INPS_yes_no  Score_level  Score_class  Score_point  \n",
       " 1444            1            3            7        273.0  \n",
       " 1652            1            0            0          0.0  \n",
       " 7492            1            0            0          0.0  \n",
       " 1893            1            0            0          0.0  \n",
       " 3879            1            0            0          0.0  \n",
       " ...           ...          ...          ...          ...  \n",
       " 5734            1            0            0          0.0  \n",
       " 5191            1            3            7        293.0  \n",
       " 5390            1            0            0          0.0  \n",
       " 860             1            0            0          0.0  \n",
       " 7270            1            0            0          0.0  \n",
       " \n",
       " [6128 rows x 16 columns],\n",
       "       Age  Language  Sex  Marital  Has_Credit  Field  Month_of_birth  \\\n",
       " 3151   50         1    0        4           1      3               3   \n",
       " 7727   29         1    1        5           1     16               6   \n",
       " 8175   24         1    0        4           1     13              12   \n",
       " 4409   38         1    1        5           1     16               6   \n",
       " 994    35         2    1        1           1      7               1   \n",
       " ...   ...       ...  ...      ...         ...    ...             ...   \n",
       " 5284   37         1    0        4           1     16               9   \n",
       " 1912   38         1    0        4           1     13               8   \n",
       " 4996   58         1    0        3           1      4              12   \n",
       " 599    32         1    0        4           1      0               5   \n",
       " 45     43         2    1        1           1      0               8   \n",
       " \n",
       "       Day_of_birth  Region  Number_of_credits  Linked_cards  INPS_mln_sum  \\\n",
       " 3151             2      13                  1             1           0.9   \n",
       " 7727             2      12                  1             2           0.5   \n",
       " 8175             2       4                  1             1           4.5   \n",
       " 4409             2      11                  1             1           1.1   \n",
       " 994              2      13                  1             1           0.4   \n",
       " ...            ...     ...                ...           ...           ...   \n",
       " 5284             2      12                  1             1           2.7   \n",
       " 1912             1      13                  1             1           1.6   \n",
       " 4996             2      12                  2             1           0.9   \n",
       " 599              2       4                  1             1           3.7   \n",
       " 45               1      12                  1             1           2.0   \n",
       " \n",
       "       INPS_yes_no  Score_level  Score_class  Score_point  \n",
       " 3151            1            0            0          0.0  \n",
       " 7727            1            3            5        207.0  \n",
       " 8175            1            0            0          0.0  \n",
       " 4409            1            0            0          0.0  \n",
       " 994             1            0            0          0.0  \n",
       " ...           ...          ...          ...          ...  \n",
       " 5284            1            0            0          0.0  \n",
       " 1912            1            0            0          0.0  \n",
       " 4996            1            0            0          0.0  \n",
       " 599             1            0            0          0.0  \n",
       " 45              0            0            0          0.0  \n",
       " \n",
       " [2627 rows x 16 columns],\n",
       " 1444    1\n",
       " 1652    1\n",
       " 7492    1\n",
       " 1893    1\n",
       " 3879    1\n",
       "        ..\n",
       " 5734    1\n",
       " 5191    1\n",
       " 5390    1\n",
       " 860     1\n",
       " 7270    1\n",
       " Name: label, Length: 6128, dtype: int64,\n",
       " 3151    1\n",
       " 7727    1\n",
       " 8175    1\n",
       " 4409    1\n",
       " 994     1\n",
       "        ..\n",
       " 5284    1\n",
       " 1912    1\n",
       " 4996    1\n",
       " 599     0\n",
       " 45      0\n",
       " Name: label, Length: 2627, dtype: int64,\n",
       " 2,\n",
       " 0,\n",
       " 'Sex',\n",
       " 'kNN.credit_scoring.abroca.png',\n",
       " 'Male',\n",
       " 'Female')"
      ]
     },
     "execution_count": 16,
     "metadata": {},
     "output_type": "execute_result"
    }
   ],
   "source": [
    "load_credit_scoring()"
   ]
  },
  {
   "cell_type": "code",
   "execution_count": 19,
   "metadata": {},
   "outputs": [],
   "source": [
    "def run_experiment(X_train, X_test, y_train, y_test,sa_index, p_Group,protected_attribute,filename,majority_group_name,minority_group_name):    \n",
    "      \n",
    "    #Run kNN model\n",
    "    kNN = KNeighborsClassifier(n_neighbors=5)\n",
    "    kNN.fit(X_train,y_train)\n",
    "    y_predicts = kNN.predict(X_test)\n",
    "    y_pred_probs = kNN.predict_proba(X_test)\n",
    "        \n",
    "    #Print measures\n",
    "        \n",
    "    print(\"Statistical parity:\")\n",
    "    print(calculate_performance_statistical_parity(X_test.values, y_test.values, y_predicts, sa_index, p_Group))\n",
    "         \n",
    "    print(\"Equal opportunity\")\n",
    "    print(calculate_performance_equal_opportunity(X_test.values, y_test.values, y_predicts,  sa_index, p_Group))\n",
    "        \n",
    "    print(\"Equalized odds\")\n",
    "    print(calculate_performance_equalized_odds(X_test.values, y_test.values, y_predicts, y_pred_probs, sa_index, p_Group))\n",
    "         \n",
    "    print(\"Predictive parity\")\n",
    "    print(calculate_performance_predictive_parity(X_test.values, y_test.values, y_predicts,  sa_index, p_Group))\n",
    "        \n",
    "    print(\"Predictive equality\")\n",
    "    print(calculate_performance_predictive_equality(X_test.values, y_test.values, y_predicts,  sa_index, p_Group))\n",
    "        \n",
    "    print(\"Treatment equality\")\n",
    "    print(calculate_performance_treatment_equality(X_test.values, y_test.values, y_predicts,  sa_index, p_Group))\n",
    "    \n",
    "    \n",
    "    # \n",
    "    \n",
    "    #make predictions\n",
    "    X_test['pred_proba'] = kNN.predict_proba(X_test)[:,1:2]\n",
    "    X_test['true_label'] = y_test\n",
    "    df_test = X_test\n",
    "    \n",
    "    \n",
    "    #Compute Abroca\n",
    "    slice = compute_abroca(df_test, pred_col = 'pred_proba' , label_col = 'true_label', protected_attr_col = protected_attribute,\n",
    "                           majority_protected_attr_val = 1, n_grid = 10000,\n",
    "                           plot_slices = True, majority_group_name=majority_group_name ,minority_group_name=minority_group_name,file_name = filename)\n",
    "    print(\"ABROCA:\",slice)\n",
    "    "
   ]
  },
  {
   "cell_type": "code",
   "execution_count": 20,
   "metadata": {},
   "outputs": [],
   "source": [
    "#Main function\n",
    "def run_eval(dataset):\n",
    "    if dataset == 'credit-approval':\n",
    "        X_train, X_test, y_train, y_test,sa_index, p_Group,protected_attribute,filename,majority_group_name,minority_group_name = load_credit_approval()\n",
    "        run_experiment(X_train, X_test, y_train, y_test,sa_index, p_Group,protected_attribute,filename,majority_group_name,minority_group_name)                                        \n",
    "    if dataset == 'credit-card':\n",
    "        X_train, X_test, y_train, y_test,sa_index, p_Group,protected_attribute,filename,majority_group_name,minority_group_name = load_credit_card()\n",
    "        run_experiment(X_train, X_test, y_train, y_test,sa_index, p_Group,protected_attribute,filename,majority_group_name,minority_group_name)                                        \n",
    "    if dataset == 'german-credit':\n",
    "        X_train, X_test, y_train, y_test,sa_index, p_Group,protected_attribute,filename,majority_group_name,minority_group_name = load_german_credit()\n",
    "        run_experiment(X_train, X_test, y_train, y_test,sa_index, p_Group,protected_attribute,filename,majority_group_name,minority_group_name)                                            \n",
    "    if dataset == 'PAKDD':\n",
    "        X_train, X_test, y_train, y_test,sa_index, p_Group,protected_attribute,filename,majority_group_name,minority_group_name = load_PAKDD2010()\n",
    "        run_experiment(X_train, X_test, y_train, y_test,sa_index, p_Group,protected_attribute,filename,majority_group_name,minority_group_name)                                                                \n",
    "    if dataset == 'credit-scoring':\n",
    "        X_train, X_test, y_train, y_test,sa_index, p_Group,protected_attribute,filename,majority_group_name,minority_group_name = load_credit_scoring()\n",
    "        run_experiment(X_train, X_test, y_train, y_test,sa_index, p_Group,protected_attribute,filename,majority_group_name,minority_group_name)                                                                        \n",
    "    "
   ]
  },
  {
   "cell_type": "code",
   "execution_count": 21,
   "metadata": {},
   "outputs": [
    {
     "name": "stdout",
     "output_type": "stream",
     "text": [
      "Statistical parity:\n",
      "{'balanced_accuracy': 0.6494152046783626, 'accuracy': 0.6617647058823529, 'f1-score': 0.5868263473053892, 'fairness': -0.0105146651909242}\n",
      "Equal opportunity\n",
      "{'balanced_accuracy': 0.6494152046783626, 'accuracy': 0.6617647058823529, 'f1-score': 0.5868263473053892, 'fairness': 0.008413461538461564, 'TPR_protected': 0.5384615384615384, 'TPR_non_protected': 0.546875, 'TNR_protected': 0.717948717948718, 'TNR_non_protected': 0.7733333333333333}\n",
      "Equalized odds\n",
      "{'balanced_accuracy': 0.6494152046783626, 'accuracy': 0.6617647058823529, 'f1-score': 0.5868263473053892, 'fairness': 0.06379807692307693, 'TPR_protected': 0.5384615384615384, 'TPR_non_protected': 0.546875, 'TNR_protected': 0.717948717948718, 'TNR_non_protected': 0.7733333333333333}\n",
      "Predictive parity\n",
      "{'balanced_accuracy': 0.6494152046783626, 'accuracy': 0.6617647058823529, 'f1-score': 0.5868263473053892, 'fairness': 0.11307692307692307, 'TPR_protected': 0.5384615384615384, 'TPR_non_protected': 0.546875, 'TNR_protected': 0.717948717948718, 'TNR_non_protected': 0.7733333333333333}\n",
      "Predictive equality\n",
      "{'balanced_accuracy': 0.6494152046783626, 'accuracy': 0.6617647058823529, 'f1-score': 0.5868263473053892, 'fairness': 0.05538461538461539, 'TPR_protected': 0.5384615384615384, 'TPR_non_protected': 0.546875, 'TNR_protected': 0.717948717948718, 'TNR_non_protected': 0.7733333333333333}\n",
      "Treatment equality\n",
      "{'balanced_accuracy': 0.6494152046783626, 'accuracy': 0.6617647058823529, 'f1-score': 0.5868263473053892, 'fairness': -0.6149732620320856, 'TPR_protected': 0.5384615384615384, 'TPR_non_protected': 0.546875, 'TNR_protected': 0.717948717948718, 'TNR_non_protected': 0.7733333333333333}\n"
     ]
    },
    {
     "data": {
      "image/png": "[encoded data removed]",
      "text/plain": [
       "<Figure size 360x288 with 1 Axes>"
      ]
     },
     "metadata": {
      "needs_background": "light"
     },
     "output_type": "display_data"
    },
    {
     "name": "stdout",
     "output_type": "stream",
     "text": [
      "ABROCA: 0.0664343476038413\n"
     ]
    }
   ],
   "source": [
    "run_eval('credit-approval')"
   ]
  },
  {
   "cell_type": "code",
   "execution_count": 22,
   "metadata": {},
   "outputs": [
    {
     "name": "stdout",
     "output_type": "stream",
     "text": [
      "   LIMIT_BAL     SEX  EDUCATION  MARRIAGE  AGE  PAY_0  PAY_2  PAY_3  PAY_4  \\\n",
      "0      20000  Female          2         1   24      2      2     -1     -1   \n",
      "1     120000  Female          2         2   26     -1      2      0      0   \n",
      "2      90000  Female          2         2   34      0      0      0      0   \n",
      "3      50000  Female          2         1   37      0      0      0      0   \n",
      "4      50000    Male          2         1   57     -1      0     -1      0   \n",
      "\n",
      "   PAY_5  ...  BILL_AMT4  BILL_AMT5  BILL_AMT6  PAY_AMT1  PAY_AMT2  PAY_AMT3  \\\n",
      "0     -2  ...          0          0          0         0       689         0   \n",
      "1      0  ...       3272       3455       3261         0      1000      1000   \n",
      "2      0  ...      14331      14948      15549      1518      1500      1000   \n",
      "3      0  ...      28314      28959      29547      2000      2019      1200   \n",
      "4      0  ...      20940      19146      19131      2000     36681     10000   \n",
      "\n",
      "   PAY_AMT4  PAY_AMT5  PAY_AMT6  default payment  \n",
      "0         0         0         0                1  \n",
      "1      1000         0      2000                1  \n",
      "2      1000      1000      5000                0  \n",
      "3      1100      1069      1000                0  \n",
      "4      9000       689       679                0  \n",
      "\n",
      "[5 rows x 24 columns]\n"
     ]
    },
    {
     "ename": "TypeError",
     "evalue": "cannot unpack non-iterable NoneType object",
     "output_type": "error",
     "traceback": [
      "\u001b[0;31m---------------------------------------------------------------------------\u001b[0m",
      "\u001b[0;31mTypeError\u001b[0m                                 Traceback (most recent call last)",
      "\u001b[1;32m/home/notta/Desktop/Coding/NCKH/experiments/Fair-credit-kNN.ipynb Cell 13\u001b[0m in \u001b[0;36m<cell line: 1>\u001b[0;34m()\u001b[0m\n\u001b[0;32m----> <a href='vscode-notebook-cell:/home/notta/Desktop/Coding/NCKH/experiments/Fair-credit-kNN.ipynb#X15sZmlsZQ%3D%3D?line=0'>1</a>\u001b[0m run_eval(\u001b[39m'\u001b[39;49m\u001b[39mcredit-card\u001b[39;49m\u001b[39m'\u001b[39;49m)\n",
      "\u001b[1;32m/home/notta/Desktop/Coding/NCKH/experiments/Fair-credit-kNN.ipynb Cell 13\u001b[0m in \u001b[0;36mrun_eval\u001b[0;34m(dataset)\u001b[0m\n\u001b[1;32m      <a href='vscode-notebook-cell:/home/notta/Desktop/Coding/NCKH/experiments/Fair-credit-kNN.ipynb#X15sZmlsZQ%3D%3D?line=4'>5</a>\u001b[0m     run_experiment(X_train, X_test, y_train, y_test,sa_index, p_Group,protected_attribute,filename,majority_group_name,minority_group_name)                                        \n\u001b[1;32m      <a href='vscode-notebook-cell:/home/notta/Desktop/Coding/NCKH/experiments/Fair-credit-kNN.ipynb#X15sZmlsZQ%3D%3D?line=5'>6</a>\u001b[0m \u001b[39mif\u001b[39;00m dataset \u001b[39m==\u001b[39m \u001b[39m'\u001b[39m\u001b[39mcredit-card\u001b[39m\u001b[39m'\u001b[39m:\n\u001b[0;32m----> <a href='vscode-notebook-cell:/home/notta/Desktop/Coding/NCKH/experiments/Fair-credit-kNN.ipynb#X15sZmlsZQ%3D%3D?line=6'>7</a>\u001b[0m     X_train, X_test, y_train, y_test,sa_index, p_Group,protected_attribute,filename,majority_group_name,minority_group_name \u001b[39m=\u001b[39m load_credit_card()\n\u001b[1;32m      <a href='vscode-notebook-cell:/home/notta/Desktop/Coding/NCKH/experiments/Fair-credit-kNN.ipynb#X15sZmlsZQ%3D%3D?line=7'>8</a>\u001b[0m     run_experiment(X_train, X_test, y_train, y_test,sa_index, p_Group,protected_attribute,filename,majority_group_name,minority_group_name)                                        \n\u001b[1;32m      <a href='vscode-notebook-cell:/home/notta/Desktop/Coding/NCKH/experiments/Fair-credit-kNN.ipynb#X15sZmlsZQ%3D%3D?line=8'>9</a>\u001b[0m \u001b[39mif\u001b[39;00m dataset \u001b[39m==\u001b[39m \u001b[39m'\u001b[39m\u001b[39mgerman-credit\u001b[39m\u001b[39m'\u001b[39m:\n",
      "\u001b[0;31mTypeError\u001b[0m: cannot unpack non-iterable NoneType object"
     ]
    }
   ],
   "source": [
    "run_eval('credit-card')"
   ]
  },
  {
   "cell_type": "code",
   "execution_count": 24,
   "metadata": {},
   "outputs": [
    {
     "name": "stdout",
     "output_type": "stream",
     "text": [
      "['checking-account', 'duration', 'credit-history', 'purpose', 'credit-amount', 'savings-account', 'employment-since', 'installment-rate', 'other-debtors', 'residence-since', 'property', 'age', 'other-installment', 'housing', 'existing-credits', 'job', 'numner-people-provide-maintenance-for', 'telephone', 'foreign-worker', 'sex', 'marital-status']\n"
     ]
    },
    {
     "ename": "ValueError",
     "evalue": "not enough values to unpack (expected 10, got 6)",
     "output_type": "error",
     "traceback": [
      "\u001b[0;31m---------------------------------------------------------------------------\u001b[0m",
      "\u001b[0;31mValueError\u001b[0m                                Traceback (most recent call last)",
      "\u001b[1;32m/home/notta/Desktop/Coding/NCKH/experiments/Fair-credit-kNN.ipynb Cell 14\u001b[0m in \u001b[0;36m<cell line: 1>\u001b[0;34m()\u001b[0m\n\u001b[0;32m----> <a href='vscode-notebook-cell:/home/notta/Desktop/Coding/NCKH/experiments/Fair-credit-kNN.ipynb#X16sZmlsZQ%3D%3D?line=0'>1</a>\u001b[0m run_eval(\u001b[39m'\u001b[39;49m\u001b[39mgerman-credit\u001b[39;49m\u001b[39m'\u001b[39;49m)\n",
      "\u001b[1;32m/home/notta/Desktop/Coding/NCKH/experiments/Fair-credit-kNN.ipynb Cell 14\u001b[0m in \u001b[0;36mrun_eval\u001b[0;34m(dataset)\u001b[0m\n\u001b[1;32m      <a href='vscode-notebook-cell:/home/notta/Desktop/Coding/NCKH/experiments/Fair-credit-kNN.ipynb#X16sZmlsZQ%3D%3D?line=7'>8</a>\u001b[0m     run_experiment(X_train, X_test, y_train, y_test,sa_index, p_Group,protected_attribute,filename,majority_group_name,minority_group_name)                                        \n\u001b[1;32m      <a href='vscode-notebook-cell:/home/notta/Desktop/Coding/NCKH/experiments/Fair-credit-kNN.ipynb#X16sZmlsZQ%3D%3D?line=8'>9</a>\u001b[0m \u001b[39mif\u001b[39;00m dataset \u001b[39m==\u001b[39m \u001b[39m'\u001b[39m\u001b[39mgerman-credit\u001b[39m\u001b[39m'\u001b[39m:\n\u001b[0;32m---> <a href='vscode-notebook-cell:/home/notta/Desktop/Coding/NCKH/experiments/Fair-credit-kNN.ipynb#X16sZmlsZQ%3D%3D?line=9'>10</a>\u001b[0m     X_train, X_test, y_train, y_test,sa_index, p_Group,protected_attribute,filename,majority_group_name,minority_group_name \u001b[39m=\u001b[39m load_german_credit()\n\u001b[1;32m     <a href='vscode-notebook-cell:/home/notta/Desktop/Coding/NCKH/experiments/Fair-credit-kNN.ipynb#X16sZmlsZQ%3D%3D?line=10'>11</a>\u001b[0m     run_experiment(X_train, X_test, y_train, y_test,sa_index, p_Group,protected_attribute,filename,majority_group_name,minority_group_name)                                            \n\u001b[1;32m     <a href='vscode-notebook-cell:/home/notta/Desktop/Coding/NCKH/experiments/Fair-credit-kNN.ipynb#X16sZmlsZQ%3D%3D?line=11'>12</a>\u001b[0m \u001b[39mif\u001b[39;00m dataset \u001b[39m==\u001b[39m \u001b[39m'\u001b[39m\u001b[39mPAKDD\u001b[39m\u001b[39m'\u001b[39m:\n",
      "\u001b[0;31mValueError\u001b[0m: not enough values to unpack (expected 10, got 6)"
     ]
    }
   ],
   "source": [
    "run_eval('german-credit')"
   ]
  },
  {
   "cell_type": "code",
   "execution_count": 25,
   "metadata": {},
   "outputs": [
    {
     "name": "stdout",
     "output_type": "stream",
     "text": [
      "Statistical parity:\n",
      "{'balanced_accuracy': 0.5056743569369014, 'accuracy': 0.6822349815751135, 'f1-score': 0.17855560478511298, 'fairness': -0.005602218569259604}\n",
      "Equal opportunity\n",
      "{'balanced_accuracy': 0.5056743569369014, 'accuracy': 0.6822349815751135, 'f1-score': 0.17855560478511298, 'fairness': 0.01915256069351666, 'TPR_protected': 0.13836824696802646, 'TPR_non_protected': 0.1192156862745098, 'TNR_protected': 0.8805043281896876, 'TNR_non_protected': 0.8815064298836497}\n",
      "Equalized odds\n",
      "{'balanced_accuracy': 0.5056743569369014, 'accuracy': 0.6822349815751135, 'f1-score': 0.17855560478511298, 'fairness': 0.020154662387478747, 'TPR_protected': 0.13836824696802646, 'TPR_non_protected': 0.1192156862745098, 'TNR_protected': 0.8805043281896876, 'TNR_non_protected': 0.8815064298836497}\n",
      "Predictive parity\n",
      "{'balanced_accuracy': 0.5056743569369014, 'accuracy': 0.6822349815751135, 'f1-score': 0.17855560478511298, 'fairness': 0.001292000485808964, 'TPR_protected': 0.13836824696802646, 'TPR_non_protected': 0.1192156862745098, 'TNR_protected': 0.8805043281896876, 'TNR_non_protected': 0.8815064298836497}\n",
      "Predictive equality\n",
      "{'balanced_accuracy': 0.5056743569369014, 'accuracy': 0.6822349815751135, 'f1-score': 0.17855560478511298, 'fairness': 0.0010021016939621152, 'TPR_protected': 0.13836824696802646, 'TPR_non_protected': 0.1192156862745098, 'TNR_protected': 0.8805043281896876, 'TNR_non_protected': 0.8815064298836497}\n",
      "Treatment equality\n",
      "{'balanced_accuracy': 0.5056743569369014, 'accuracy': 0.6822349815751135, 'f1-score': 0.17855560478511298, 'fairness': -0.44039146269507023, 'TPR_protected': 0.13836824696802646, 'TPR_non_protected': 0.1192156862745098, 'TNR_protected': 0.8805043281896876, 'TNR_non_protected': 0.8815064298836497}\n"
     ]
    },
    {
     "data": {
      "image/png": "[encoded data removed]",
      "text/plain": [
       "<Figure size 360x288 with 1 Axes>"
      ]
     },
     "metadata": {
      "needs_background": "light"
     },
     "output_type": "display_data"
    },
    {
     "name": "stdout",
     "output_type": "stream",
     "text": [
      "ABROCA: 0.00926376390726015\n"
     ]
    }
   ],
   "source": [
    "run_eval('PAKDD')"
   ]
  },
  {
   "cell_type": "code",
   "execution_count": 26,
   "metadata": {
    "scrolled": false
   },
   "outputs": [
    {
     "name": "stdout",
     "output_type": "stream",
     "text": [
      "Statistical parity:\n",
      "{'balanced_accuracy': 0.8447459855556486, 'accuracy': 0.9581271412257327, 'f1-score': 0.9771784232365145, 'fairness': 0.04602152538692961}\n",
      "Equal opportunity\n",
      "{'balanced_accuracy': 0.8447459855556486, 'accuracy': 0.9581271412257327, 'f1-score': 0.9771784232365145, 'fairness': 0.023606713729010353, 'TPR_protected': 0.9731002017484869, 'TPR_non_protected': 0.9967069154774972, 'TNR_protected': 0.7177914110429447, 'TNR_non_protected': 0.6818181818181818}\n",
      "Equalized odds\n",
      "{'balanced_accuracy': 0.8447459855556486, 'accuracy': 0.9581271412257327, 'f1-score': 0.9771784232365145, 'fairness': 0.059579942953773335, 'TPR_protected': 0.9731002017484869, 'TPR_non_protected': 0.9967069154774972, 'TNR_protected': 0.7177914110429447, 'TNR_non_protected': 0.6818181818181818}\n",
      "Predictive parity\n",
      "{'balanced_accuracy': 0.8447459855556486, 'accuracy': 0.9581271412257327, 'f1-score': 0.9771784232365145, 'fairness': 0.008205497200066025, 'TPR_protected': 0.9731002017484869, 'TPR_non_protected': 0.9967069154774972, 'TNR_protected': 0.7177914110429447, 'TNR_non_protected': 0.6818181818181818}\n",
      "Predictive equality\n",
      "{'balanced_accuracy': 0.8447459855556486, 'accuracy': 0.9581271412257327, 'f1-score': 0.9771784232365145, 'fairness': 0.03597322922476298, 'TPR_protected': 0.9731002017484869, 'TPR_non_protected': 0.9967069154774972, 'TNR_protected': 0.7177914110429447, 'TNR_non_protected': 0.6818181818181818}\n",
      "Treatment equality\n",
      "{'balanced_accuracy': 0.8447459855556486, 'accuracy': 0.9581271412257327, 'f1-score': 0.9771784232365145, 'fairness': 0.7267080745341614, 'TPR_protected': 0.9731002017484869, 'TPR_non_protected': 0.9967069154774972, 'TNR_protected': 0.7177914110429447, 'TNR_non_protected': 0.6818181818181818}\n"
     ]
    },
    {
     "data": {
      "image/png": "[encoded data removed]",
      "text/plain": [
       "<Figure size 360x288 with 1 Axes>"
      ]
     },
     "metadata": {
      "needs_background": "light"
     },
     "output_type": "display_data"
    },
    {
     "name": "stdout",
     "output_type": "stream",
     "text": [
      "ABROCA: 0.023672455066001928\n"
     ]
    }
   ],
   "source": [
    "run_eval('credit-scoring')"
   ]
  },
  {
   "cell_type": "code",
   "execution_count": null,
   "metadata": {},
   "outputs": [],
   "source": []
  }
 ],
 "metadata": {
  "kernelspec": {
   "display_name": "Python 3",
   "language": "python",
   "name": "python3"
  },
  "language_info": {
   "codemirror_mode": {
    "name": "ipython",
    "version": 3
   },
   "file_extension": ".py",
   "mimetype": "text/x-python",
   "name": "python",
   "nbconvert_exporter": "python",
   "pygments_lexer": "ipython3",
   "version": "3.9.13"
  },
  "vscode": {
   "interpreter": {
    "hash": "916dbcbb3f70747c44a77c7bcd40155683ae19c65e1c03b4aa3499c5328201f1"
   }
  }
 },
 "nbformat": 4,
 "nbformat_minor": 4
}
