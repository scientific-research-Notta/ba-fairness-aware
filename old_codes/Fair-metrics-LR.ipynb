{
 "cells": [
  {
   "cell_type": "code",
   "execution_count": 1,
   "metadata": {},
   "outputs": [],
   "source": [
    "#Import lib\n",
    "import pandas as pd\n",
    "from sklearn.metrics import confusion_matrix\n",
    "from sklearn.metrics import classification_report\n",
    "from sklearn.model_selection import train_test_split\n",
    "from my_useful_functions import calculate_performance_statistical_parity,calculate_performance_equalized_odds,calculate_performance_equal_opportunity,calculate_performance_predictive_parity,calculate_performance_predictive_equality,calculate_performance_treatment_equality\n",
    "from sklearn import preprocessing\n",
    "from sklearn.linear_model import LogisticRegression\n",
    "from compute_abroca import *\n",
    "import numpy as np\n",
    "import sklearn.metrics as metrics \n",
    "from scipy import interpolate\n",
    "from scipy import integrate\n",
    "import matplotlib.pyplot as plt\n",
    "import matplotlib\n",
    "#matplotlib.use('TkAgg')\n",
    "%matplotlib inline\n",
    "import warnings\n",
    "warnings.filterwarnings('ignore')"
   ]
  },
  {
   "cell_type": "code",
   "execution_count": 2,
   "metadata": {},
   "outputs": [],
   "source": [
    "def load_law():\n",
    "    df = pd.read_csv('data/law_school_clean.csv')    \n",
    "    protected_attribute = 'race'\n",
    "    majority_group_name = \"White\"\n",
    "    minority_group_name = \"Non-White\"\n",
    "    class_label = 'pass_bar'\n",
    "    filename = \"LR.law.abroca.pdf\"    \n",
    "    \n",
    "    #label encode\n",
    "    le = preprocessing.LabelEncoder()\n",
    "    for i in df.columns:\n",
    "        if df[i].dtypes == 'object':\n",
    "            df[i] = le.fit_transform(df[i])\n",
    "    #Splitting data into train and test\n",
    "    length = len(df.columns)\n",
    "    X = df.iloc[:,:length-1]\n",
    "    y = df.iloc[:,length-1]\n",
    "    X_train, X_test, y_train, y_test = train_test_split(X, y, test_size=0.3, random_state=42) \n",
    "    \n",
    "    #Get index    \n",
    "    feature = X.keys().tolist()    \n",
    "    sa_index = feature.index(protected_attribute)\n",
    "    p_Group = 0 \n",
    "    \n",
    "    return X_train, X_test, y_train, y_test,sa_index, p_Group, protected_attribute, filename,majority_group_name,minority_group_name"
   ]
  },
  {
   "cell_type": "code",
   "execution_count": 3,
   "metadata": {},
   "outputs": [],
   "source": [
    "def load_student_academics():\n",
    "    df = pd.read_csv('data/student_aca_clean.csv')    \n",
    "    protected_attribute = 'ge'\n",
    "    majority_group_name = \"Male\"\n",
    "    minority_group_name = \"Female\"\n",
    "    class_label = 'class'\n",
    "    filename = \"LR.student-academics.abroca.pdf\"    \n",
    "    \n",
    "    #Label class\n",
    "    df['class']=[1 if v == \"Good-and-higher\" else 0 for v in df['class']]\n",
    "    #Label sex\n",
    "    df['ge']=[\"Female\" if v == \"F\" else \"Male\" for v in df['ge']]\n",
    "    #label encode\n",
    "    le = preprocessing.LabelEncoder()\n",
    "    for i in df.columns:\n",
    "        if df[i].dtypes == 'object':\n",
    "            df[i] = le.fit_transform(df[i])\n",
    "    #Splitting data into train and test\n",
    "    length = len(df.columns)\n",
    "    X = df.iloc[:,:length-1]\n",
    "    y = df.iloc[:,length-1]\n",
    "    X_train, X_test, y_train, y_test = train_test_split(X, y, test_size=0.3, random_state=42) \n",
    "    \n",
    "    #Get index    \n",
    "    feature = X.keys().tolist()    \n",
    "    sa_index = feature.index(protected_attribute)\n",
    "    p_Group = 0 \n",
    "    \n",
    "    return X_train, X_test, y_train, y_test,sa_index, p_Group, protected_attribute, filename,majority_group_name,minority_group_name"
   ]
  },
  {
   "cell_type": "code",
   "execution_count": 4,
   "metadata": {},
   "outputs": [],
   "source": [
    "def load_xAPI_Edu():\n",
    "    df = pd.read_csv('data/xAPI-Edu-Data.csv')    \n",
    "    protected_attribute = 'gender'\n",
    "    majority_group_name = \"Male\"\n",
    "    minority_group_name = \"Female\"\n",
    "    class_label = 'Class'\n",
    "    filename = \"LR.xAPI-Edu-Data.abroca.pdf\"    \n",
    "    \n",
    "    #Label class\n",
    "    df['Class']=[1 if v == \"Medium-High\" else 0 for v in df['Class']]\n",
    "    #Label sex\n",
    "    df['gender']=[\"Female\" if v == \"F\" else \"Male\" for v in df['gender']]\n",
    "    #label encode\n",
    "    le = preprocessing.LabelEncoder()\n",
    "    for i in df.columns:\n",
    "        if df[i].dtypes == 'object':\n",
    "            df[i] = le.fit_transform(df[i])\n",
    "    #Splitting data into train and test\n",
    "    length = len(df.columns)\n",
    "    X = df.iloc[:,:length-1]\n",
    "    y = df.iloc[:,length-1]\n",
    "    X_train, X_test, y_train, y_test = train_test_split(X, y, test_size=0.3, random_state=42) \n",
    "    \n",
    "    #Get index    \n",
    "    feature = X.keys().tolist()    \n",
    "    sa_index = feature.index(protected_attribute)\n",
    "    p_Group = 0 \n",
    "    \n",
    "    return X_train, X_test, y_train, y_test,sa_index, p_Group, protected_attribute, filename,majority_group_name,minority_group_name"
   ]
  },
  {
   "cell_type": "code",
   "execution_count": 5,
   "metadata": {},
   "outputs": [],
   "source": [
    "def load_student_mat():\n",
    "    df = pd.read_csv('data/student_mat_clean.csv')    \n",
    "    protected_attribute = 'sex'\n",
    "    majority_group_name = \"Male\"\n",
    "    minority_group_name = \"Female\"\n",
    "    class_label = 'Class'\n",
    "    filename = \"LR.student-mat.abroca.pdf\"    \n",
    "    \n",
    "    #Label class\n",
    "    df['Class']=[1 if v == \"Pass\" else 0 for v in df['Class']]\n",
    "    #Label sex\n",
    "    df['sex']=[\"Female\" if v == \"F\" else \"Male\" for v in df['sex']]\n",
    "    #label encode\n",
    "    le = preprocessing.LabelEncoder()\n",
    "    for i in df.columns:\n",
    "        if df[i].dtypes == 'object':\n",
    "            df[i] = le.fit_transform(df[i])\n",
    "    #Splitting data into train and test\n",
    "    length = len(df.columns)\n",
    "    X = df.iloc[:,:length-1]\n",
    "    y = df.iloc[:,length-1]\n",
    "    X_train, X_test, y_train, y_test = train_test_split(X, y, test_size=0.3, random_state=42) \n",
    "    \n",
    "    #Get index    \n",
    "    feature = X.keys().tolist()    \n",
    "    sa_index = feature.index(protected_attribute)\n",
    "    p_Group = 0 \n",
    "    \n",
    "    return X_train, X_test, y_train, y_test,sa_index, p_Group, protected_attribute, filename,majority_group_name,minority_group_name"
   ]
  },
  {
   "cell_type": "code",
   "execution_count": 6,
   "metadata": {},
   "outputs": [],
   "source": [
    "def load_student_por():\n",
    "    df = pd.read_csv('data/student_por_clean.csv')    \n",
    "    protected_attribute = 'sex'\n",
    "    majority_group_name = \"Male\"\n",
    "    minority_group_name = \"Female\"\n",
    "    class_label = 'class'\n",
    "    filename = \"LR.student-por.abroca.pdf\"    \n",
    "    \n",
    "    #Label class\n",
    "    df['class']=[1 if v == \"Pass\" else 0 for v in df['class']]\n",
    "    #Label sex\n",
    "    df['sex']=[\"Female\" if v == \"F\" else \"Male\" for v in df['sex']]\n",
    "    #label encode\n",
    "    le = preprocessing.LabelEncoder()\n",
    "    for i in df.columns:\n",
    "        if df[i].dtypes == 'object':\n",
    "            df[i] = le.fit_transform(df[i])\n",
    "    #Splitting data into train and test\n",
    "    length = len(df.columns)\n",
    "    X = df.iloc[:,:length-1]\n",
    "    y = df.iloc[:,length-1]\n",
    "    X_train, X_test, y_train, y_test = train_test_split(X, y, test_size=0.3, random_state=42) \n",
    "    \n",
    "    #Get index    \n",
    "    feature = X.keys().tolist()    \n",
    "    sa_index = feature.index(protected_attribute)\n",
    "    p_Group = 0 \n",
    "    \n",
    "    return X_train, X_test, y_train, y_test,sa_index, p_Group, protected_attribute, filename,majority_group_name,minority_group_name"
   ]
  },
  {
   "cell_type": "code",
   "execution_count": 7,
   "metadata": {},
   "outputs": [],
   "source": [
    "def load_pisa():\n",
    "    df = pd.read_csv('data/pisa_clean.csv')    \n",
    "    protected_attribute = 'gender'\n",
    "    majority_group_name = \"Male\"\n",
    "    minority_group_name = \"Female\"\n",
    "    class_label = 'readingScore'\n",
    "    filename = \"LR.pisa.abroca.pdf\"    \n",
    "    \n",
    "    #Label class\n",
    "    df['readingScore']=[1 if v == 'High' else 0 for v in df['readingScore']]\n",
    "    #Label sex\n",
    "    df['gender']=[\"Female\" if v == 0 else \"Male\" for v in df['gender']]\n",
    "    #label encode\n",
    "    le = preprocessing.LabelEncoder()\n",
    "    for i in df.columns:\n",
    "        if df[i].dtypes == 'object':\n",
    "            df[i] = le.fit_transform(df[i])\n",
    "    #Splitting data into train and test\n",
    "    length = len(df.columns)\n",
    "    X = df.iloc[:,:length-1]\n",
    "    y = df.iloc[:,length-1]\n",
    "    X_train, X_test, y_train, y_test = train_test_split(X, y, test_size=0.3, random_state=42) \n",
    "    \n",
    "    #Get index    \n",
    "    feature = X.keys().tolist()    \n",
    "    sa_index = feature.index(protected_attribute)\n",
    "    p_Group = 0 \n",
    "    \n",
    "    return X_train, X_test, y_train, y_test,sa_index, p_Group, protected_attribute, filename,majority_group_name,minority_group_name"
   ]
  },
  {
   "cell_type": "code",
   "execution_count": 8,
   "metadata": {},
   "outputs": [],
   "source": [
    "def run_experiment(X_train, X_test, y_train, y_test,sa_index, p_Group,protected_attribute,filename,majority_group_name,minority_group_name):    \n",
    "      \n",
    "    #Run Logistic Regression model\n",
    "    LR = LogisticRegression(random_state=0)\n",
    "    LR.fit(X_train,y_train)\n",
    "    y_predicts = LR.predict(X_test)\n",
    "    y_pred_probs = LR.predict_proba(X_test)\n",
    "        \n",
    "    #Print measures\n",
    "        \n",
    "    print(\"Statistical parity:\")\n",
    "    print(calculate_performance_statistical_parity(X_test.values, y_test.values, y_predicts, sa_index, p_Group))\n",
    "         \n",
    "    print(\"Equal opportunity\")\n",
    "    print(calculate_performance_equal_opportunity(X_test.values, y_test.values, y_predicts,  sa_index, p_Group))\n",
    "        \n",
    "    print(\"Equalized odds\")\n",
    "    print(calculate_performance_equalized_odds(X_test.values, y_test.values, y_predicts, y_pred_probs, sa_index, p_Group))\n",
    "         \n",
    "    print(\"Predictive parity\")\n",
    "    print(calculate_performance_predictive_parity(X_test.values, y_test.values, y_predicts,  sa_index, p_Group))\n",
    "        \n",
    "    print(\"Predictive equality\")\n",
    "    print(calculate_performance_predictive_equality(X_test.values, y_test.values, y_predicts,  sa_index, p_Group))\n",
    "        \n",
    "    print(\"Treatment equality\")\n",
    "    print(calculate_performance_treatment_equality(X_test.values, y_test.values, y_predicts,  sa_index, p_Group))\n",
    "    \n",
    "    \n",
    "    # \n",
    "    \n",
    "    #make predictions\n",
    "    X_test['pred_proba'] = LR.predict_proba(X_test)[:,1:2]\n",
    "    X_test['true_label'] = y_test\n",
    "    df_test = X_test\n",
    "    \n",
    "    \n",
    "    #Compute Abroca\n",
    "    slice = compute_abroca(df_test, pred_col = 'pred_proba' , label_col = 'true_label', protected_attr_col = protected_attribute,\n",
    "                           majority_protected_attr_val = 1, n_grid = 10000,\n",
    "                           plot_slices = True, majority_group_name=majority_group_name ,minority_group_name=minority_group_name,file_name = filename)\n",
    "    print(\"ABROCA:\",slice)\n",
    "    "
   ]
  },
  {
   "cell_type": "code",
   "execution_count": 9,
   "metadata": {},
   "outputs": [],
   "source": [
    "#Main function\n",
    "def run_eval(dataset):\n",
    "    if dataset == 'law':\n",
    "        X_train, X_test, y_train, y_test,sa_index, p_Group,protected_attribute,filename,majority_group_name,minority_group_name = load_law()\n",
    "        run_experiment(X_train, X_test, y_train, y_test,sa_index, p_Group,protected_attribute,filename,majority_group_name,minority_group_name)                                        \n",
    "    if dataset == 'pisa':\n",
    "        X_train, X_test, y_train, y_test,sa_index, p_Group,protected_attribute,filename,majority_group_name,minority_group_name = load_pisa()\n",
    "        run_experiment(X_train, X_test, y_train, y_test,sa_index, p_Group,protected_attribute,filename,majority_group_name,minority_group_name)                                        \n",
    "    if dataset == 'student-academics':\n",
    "        X_train, X_test, y_train, y_test,sa_index, p_Group,protected_attribute,filename,majority_group_name,minority_group_name = load_student_academics()\n",
    "        run_experiment(X_train, X_test, y_train, y_test,sa_index, p_Group,protected_attribute,filename,majority_group_name,minority_group_name)                                            \n",
    "    if dataset == 'student-mat':\n",
    "        X_train, X_test, y_train, y_test,sa_index, p_Group,protected_attribute,filename,majority_group_name,minority_group_name = load_student_mat()\n",
    "        run_experiment(X_train, X_test, y_train, y_test,sa_index, p_Group,protected_attribute,filename,majority_group_name,minority_group_name)                                                                \n",
    "    if dataset == 'student-por':\n",
    "        X_train, X_test, y_train, y_test,sa_index, p_Group,protected_attribute,filename,majority_group_name,minority_group_name = load_student_por()\n",
    "        run_experiment(X_train, X_test, y_train, y_test,sa_index, p_Group,protected_attribute,filename,majority_group_name,minority_group_name)                                                                        \n",
    "    if dataset == 'xAPI-Edu':\n",
    "        X_train, X_test, y_train, y_test,sa_index, p_Group,protected_attribute,filename,majority_group_name,minority_group_name = load_xAPI_Edu()\n",
    "        run_experiment(X_train, X_test, y_train, y_test,sa_index, p_Group,protected_attribute,filename,majority_group_name,minority_group_name)                                                                        \n",
    "    "
   ]
  },
  {
   "cell_type": "code",
   "execution_count": 10,
   "metadata": {},
   "outputs": [
    {
     "name": "stdout",
     "output_type": "stream",
     "text": [
      "Statistical parity:\n",
      "{'balanced_accuracy': 0.6260054807156693, 'accuracy': 0.9072115384615385, 'fairness': 0.1936618478452239, 'Positive_prot_pred': 0.7938144329896907, 'Positive_non_prot_pred': 0.9874762808349146, 'Negative_prot_pred': 0.20618556701030927, 'Negative_non_prot_pred': 0.012523719165085389}\n",
      "Equal opportunity\n",
      "{'balanced_accuracy': 0.6260054807156693, 'accuracy': 0.9072115384615385, 'fairness': 0.08548358693813618, 'TPR_protected': 0.909985935302391, 'TPR_non_protected': 0.9954695222405272, 'TNR_protected': 0.525096525096525, 'TNR_non_protected': 0.10628019323671498}\n",
      "Equalized odds\n",
      "{'balanced_accuracy': 0.6260054807156693, 'accuracy': 0.9072115384615385, 'fairness': 0.5042999187979462, 'TPR_protected': 0.909985935302391, 'TPR_non_protected': 0.9954695222405272, 'TNR_protected': 0.525096525096525, 'TNR_non_protected': 0.10628019323671498}\n",
      "Predictive parity\n",
      "{'balanced_accuracy': 0.6260054807156693, 'accuracy': 0.9072115384615385, 'fairness': 0.0886411052437186, 'TPR_protected': 0.909985935302391, 'TPR_non_protected': 0.9954695222405272, 'TNR_protected': 0.525096525096525, 'TNR_non_protected': 0.10628019323671498}\n",
      "Predictive equality\n",
      "{'balanced_accuracy': 0.6260054807156693, 'accuracy': 0.9072115384615385, 'fairness': 0.4188163318598101, 'TPR_protected': 0.909985935302391, 'TPR_non_protected': 0.9954695222405272, 'TNR_protected': 0.525096525096525, 'TNR_non_protected': 0.10628019323671498}\n",
      "Treatment equality\n",
      "{'balanced_accuracy': 0.6260054807156693, 'accuracy': 0.9072115384615385, 'fairness': 0.4608657437925731, 'TPR_protected': 0.909985935302391, 'TPR_non_protected': 0.9954695222405272, 'TNR_protected': 0.525096525096525, 'TNR_non_protected': 0.10628019323671498}\n"
     ]
    },
    {
     "data": {
      "image/png": "[encoded data removed]",
      "text/plain": [
       "<Figure size 360x288 with 1 Axes>"
      ]
     },
     "metadata": {
      "needs_background": "light"
     },
     "output_type": "display_data"
    },
    {
     "name": "stdout",
     "output_type": "stream",
     "text": [
      "ABROCA: 0.03247610827862542\n"
     ]
    }
   ],
   "source": [
    "run_eval('law')"
   ]
  },
  {
   "cell_type": "code",
   "execution_count": 11,
   "metadata": {},
   "outputs": [
    {
     "name": "stdout",
     "output_type": "stream",
     "text": [
      "Statistical parity:\n",
      "{'balanced_accuracy': 0.651121382636656, 'accuracy': 0.6790606653620352, 'fairness': -0.20902532746407376, 'Positive_prot_pred': 0.763915547024952, 'Positive_non_prot_pred': 0.5548902195608783, 'Negative_prot_pred': 0.236084452975048, 'Negative_non_prot_pred': 0.44510978043912175}\n",
      "Equal opportunity\n",
      "{'balanced_accuracy': 0.651121382636656, 'accuracy': 0.6790606653620352, 'fairness': 0.16264322712290058, 'TPR_protected': 0.8521739130434782, 'TPR_non_protected': 0.6895306859205776, 'TNR_protected': 0.4090909090909091, 'TNR_non_protected': 0.6116071428571429}\n",
      "Equalized odds\n",
      "{'balanced_accuracy': 0.651121382636656, 'accuracy': 0.6790606653620352, 'fairness': 0.36515946088913437, 'TPR_protected': 0.8521739130434782, 'TPR_non_protected': 0.6895306859205776, 'TNR_protected': 0.4090909090909091, 'TNR_non_protected': 0.6116071428571429}\n",
      "Predictive parity\n",
      "{'balanced_accuracy': 0.651121382636656, 'accuracy': 0.6790606653620352, 'fairness': 0.05164310762445323, 'TPR_protected': 0.8521739130434782, 'TPR_non_protected': 0.6895306859205776, 'TNR_protected': 0.4090909090909091, 'TNR_non_protected': 0.6116071428571429}\n",
      "Predictive equality\n",
      "{'balanced_accuracy': 0.651121382636656, 'accuracy': 0.6790606653620352, 'fairness': 0.2025162337662338, 'TPR_protected': 0.8521739130434782, 'TPR_non_protected': 0.6895306859205776, 'TNR_protected': 0.4090909090909091, 'TNR_non_protected': 0.6116071428571429}\n",
      "Treatment equality\n",
      "{'balanced_accuracy': 0.651121382636656, 'accuracy': 0.6790606653620352, 'fairness': 0.49812113174182143, 'TPR_protected': 0.8521739130434782, 'TPR_non_protected': 0.6895306859205776, 'TNR_protected': 0.4090909090909091, 'TNR_non_protected': 0.6116071428571429}\n"
     ]
    },
    {
     "data": {
      "image/png": "[encoded data removed]",
      "text/plain": [
       "<Figure size 360x288 with 1 Axes>"
      ]
     },
     "metadata": {
      "needs_background": "light"
     },
     "output_type": "display_data"
    },
    {
     "name": "stdout",
     "output_type": "stream",
     "text": [
      "ABROCA: 0.02490539399627608\n"
     ]
    }
   ],
   "source": [
    "run_eval('pisa')"
   ]
  },
  {
   "cell_type": "code",
   "execution_count": 12,
   "metadata": {},
   "outputs": [
    {
     "name": "stdout",
     "output_type": "stream",
     "text": [
      "Statistical parity:\n",
      "{'balanced_accuracy': 0.8333333333333333, 'accuracy': 0.9, 'fairness': -0.08521303258145363, 'Positive_prot_pred': 0.8947368421052632, 'Positive_non_prot_pred': 0.8095238095238095, 'Negative_prot_pred': 0.10526315789473684, 'Negative_non_prot_pred': 0.19047619047619047}\n",
      "Equal opportunity\n",
      "{'balanced_accuracy': 0.8333333333333333, 'accuracy': 0.9, 'fairness': 0.04643962848297212, 'TPR_protected': 0.9411764705882353, 'TPR_non_protected': 0.8947368421052632, 'TNR_protected': 0.5, 'TNR_non_protected': 1.0}\n",
      "Equalized odds\n",
      "{'balanced_accuracy': 0.8333333333333333, 'accuracy': 0.9, 'fairness': 0.5464396284829721, 'TPR_protected': 0.9411764705882353, 'TPR_non_protected': 0.8947368421052632, 'TNR_protected': 0.5, 'TNR_non_protected': 1.0}\n",
      "Predictive parity\n",
      "{'balanced_accuracy': 0.8333333333333333, 'accuracy': 0.9, 'fairness': 0.05882352941176472, 'TPR_protected': 0.9411764705882353, 'TPR_non_protected': 0.8947368421052632, 'TNR_protected': 0.5, 'TNR_non_protected': 1.0}\n",
      "Predictive equality\n",
      "{'balanced_accuracy': 0.8333333333333333, 'accuracy': 0.9, 'fairness': 0.5, 'TPR_protected': 0.9411764705882353, 'TPR_non_protected': 0.8947368421052632, 'TNR_protected': 0.5, 'TNR_non_protected': 1.0}\n",
      "Treatment equality\n",
      "{'balanced_accuracy': 0.8333333333333333, 'accuracy': 0.9, 'fairness': inf, 'TPR_protected': 0.9411764705882353, 'TPR_non_protected': 0.8947368421052632, 'TNR_protected': 0.5, 'TNR_non_protected': 1.0}\n"
     ]
    },
    {
     "data": {
      "image/png": "[encoded data removed]",
      "text/plain": [
       "<Figure size 360x288 with 1 Axes>"
      ]
     },
     "metadata": {
      "needs_background": "light"
     },
     "output_type": "display_data"
    },
    {
     "name": "stdout",
     "output_type": "stream",
     "text": [
      "ABROCA: 0.023219814241487984\n"
     ]
    }
   ],
   "source": [
    "run_eval('student-academics')"
   ]
  },
  {
   "cell_type": "code",
   "execution_count": 13,
   "metadata": {},
   "outputs": [
    {
     "name": "stdout",
     "output_type": "stream",
     "text": [
      "Statistical parity:\n",
      "{'balanced_accuracy': 0.9359737939249553, 'accuracy': 0.9411764705882353, 'fairness': 0.20407009609949123, 'Positive_prot_pred': 0.5172413793103449, 'Positive_non_prot_pred': 0.7213114754098361, 'Negative_prot_pred': 0.4827586206896552, 'Negative_non_prot_pred': 0.2786885245901639}\n",
      "Equal opportunity\n",
      "{'balanced_accuracy': 0.9359737939249553, 'accuracy': 0.9411764705882353, 'fairness': 0.04070660522273428, 'TPR_protected': 0.9354838709677419, 'TPR_non_protected': 0.9761904761904762, 'TNR_protected': 0.9629629629629629, 'TNR_non_protected': 0.8421052631578947}\n",
      "Equalized odds\n",
      "{'balanced_accuracy': 0.9359737939249553, 'accuracy': 0.9411764705882353, 'fairness': 0.1615643050278025, 'TPR_protected': 0.9354838709677419, 'TPR_non_protected': 0.9761904761904762, 'TNR_protected': 0.9629629629629629, 'TNR_non_protected': 0.8421052631578947}\n",
      "Predictive parity\n",
      "{'balanced_accuracy': 0.9359737939249553, 'accuracy': 0.9411764705882353, 'fairness': 0.034848484848484906, 'TPR_protected': 0.9354838709677419, 'TPR_non_protected': 0.9761904761904762, 'TNR_protected': 0.9629629629629629, 'TNR_non_protected': 0.8421052631578947}\n",
      "Predictive equality\n",
      "{'balanced_accuracy': 0.9359737939249553, 'accuracy': 0.9411764705882353, 'fairness': 0.12085769980506822, 'TPR_protected': 0.9354838709677419, 'TPR_non_protected': 0.9761904761904762, 'TNR_protected': 0.9629629629629629, 'TNR_non_protected': 0.8421052631578947}\n",
      "Treatment equality\n",
      "{'balanced_accuracy': 0.9359737939249553, 'accuracy': 0.9411764705882353, 'fairness': 1.6666666666666667, 'TPR_protected': 0.9354838709677419, 'TPR_non_protected': 0.9761904761904762, 'TNR_protected': 0.9629629629629629, 'TNR_non_protected': 0.8421052631578947}\n"
     ]
    },
    {
     "data": {
      "image/png": "[encoded data removed]",
      "text/plain": [
       "<Figure size 360x288 with 1 Axes>"
      ]
     },
     "metadata": {
      "needs_background": "light"
     },
     "output_type": "display_data"
    },
    {
     "name": "stdout",
     "output_type": "stream",
     "text": [
      "ABROCA: 0.01765229926839795\n"
     ]
    }
   ],
   "source": [
    "run_eval('student-mat')"
   ]
  },
  {
   "cell_type": "code",
   "execution_count": 14,
   "metadata": {
    "scrolled": false
   },
   "outputs": [
    {
     "name": "stdout",
     "output_type": "stream",
     "text": [
      "Statistical parity:\n",
      "{'balanced_accuracy': 0.8446745562130178, 'accuracy': 0.9282051282051282, 'fairness': -0.06823765914675006, 'Positive_prot_pred': 0.8925619834710744, 'Positive_non_prot_pred': 0.8243243243243243, 'Negative_prot_pred': 0.10743801652892562, 'Negative_non_prot_pred': 0.17567567567567569}\n",
      "Equal opportunity\n",
      "{'balanced_accuracy': 0.8446745562130178, 'accuracy': 0.9282051282051282, 'fairness': 0.013302752293578024, 'TPR_protected': 0.963302752293578, 'TPR_non_protected': 0.95, 'TNR_protected': 0.75, 'TNR_non_protected': 0.7142857142857143}\n",
      "Equalized odds\n",
      "{'balanced_accuracy': 0.8446745562130178, 'accuracy': 0.9282051282051282, 'fairness': 0.04901703800786372, 'TPR_protected': 0.963302752293578, 'TPR_non_protected': 0.95, 'TNR_protected': 0.75, 'TNR_non_protected': 0.7142857142857143}\n",
      "Predictive parity\n",
      "{'balanced_accuracy': 0.8446745562130178, 'accuracy': 0.9282051282051282, 'fairness': 0.03779599271402545, 'TPR_protected': 0.963302752293578, 'TPR_non_protected': 0.95, 'TNR_protected': 0.75, 'TNR_non_protected': 0.7142857142857143}\n",
      "Predictive equality\n",
      "{'balanced_accuracy': 0.8446745562130178, 'accuracy': 0.9282051282051282, 'fairness': 0.0357142857142857, 'TPR_protected': 0.963302752293578, 'TPR_non_protected': 0.95, 'TNR_protected': 0.75, 'TNR_non_protected': 0.7142857142857143}\n",
      "Treatment equality\n",
      "{'balanced_accuracy': 0.8446745562130178, 'accuracy': 0.9282051282051282, 'fairness': 0.5833333333333333, 'TPR_protected': 0.963302752293578, 'TPR_non_protected': 0.95, 'TNR_protected': 0.75, 'TNR_non_protected': 0.7142857142857143}\n"
     ]
    },
    {
     "data": {
      "image/png": "[encoded data removed]",
      "text/plain": [
       "<Figure size 360x288 with 1 Axes>"
      ]
     },
     "metadata": {
      "needs_background": "light"
     },
     "output_type": "display_data"
    },
    {
     "name": "stdout",
     "output_type": "stream",
     "text": [
      "ABROCA: 0.027315844294307192\n"
     ]
    }
   ],
   "source": [
    "run_eval('student-por')"
   ]
  },
  {
   "cell_type": "code",
   "execution_count": 15,
   "metadata": {},
   "outputs": [
    {
     "name": "stdout",
     "output_type": "stream",
     "text": [
      "Statistical parity:\n",
      "{'balanced_accuracy': 0.9090909090909091, 'accuracy': 0.9166666666666666, 'fairness': -0.2634349638078526, 'Positive_prot_pred': 0.851063829787234, 'Positive_non_prot_pred': 0.5876288659793815, 'Negative_prot_pred': 0.14893617021276595, 'Negative_non_prot_pred': 0.41237113402061853}\n",
      "Equal opportunity\n",
      "{'balanced_accuracy': 0.9090909090909091, 'accuracy': 0.9166666666666666, 'fairness': 0.03205128205128205, 'TPR_protected': 0.9487179487179487, 'TPR_non_protected': 0.9166666666666666, 'TNR_protected': 0.625, 'TNR_non_protected': 0.9459459459459459}\n",
      "Equalized odds\n",
      "{'balanced_accuracy': 0.9090909090909091, 'accuracy': 0.9166666666666666, 'fairness': 0.352997227997228, 'TPR_protected': 0.9487179487179487, 'TPR_non_protected': 0.9166666666666666, 'TNR_protected': 0.625, 'TNR_non_protected': 0.9459459459459459}\n",
      "Predictive parity\n",
      "{'balanced_accuracy': 0.9090909090909091, 'accuracy': 0.9166666666666666, 'fairness': 0.039912280701754344, 'TPR_protected': 0.9487179487179487, 'TPR_non_protected': 0.9166666666666666, 'TNR_protected': 0.625, 'TNR_non_protected': 0.9459459459459459}\n",
      "Predictive equality\n",
      "{'balanced_accuracy': 0.9090909090909091, 'accuracy': 0.9166666666666666, 'fairness': 0.32094594594594594, 'TPR_protected': 0.9487179487179487, 'TPR_non_protected': 0.9166666666666666, 'TNR_protected': 0.625, 'TNR_non_protected': 0.9459459459459459}\n",
      "Treatment equality\n",
      "{'balanced_accuracy': 0.9090909090909091, 'accuracy': 0.9166666666666666, 'fairness': 1.8333333333333335, 'TPR_protected': 0.9487179487179487, 'TPR_non_protected': 0.9166666666666666, 'TNR_protected': 0.625, 'TNR_non_protected': 0.9459459459459459}\n"
     ]
    },
    {
     "data": {
      "image/png": "[encoded data removed]",
      "text/plain": [
       "<Figure size 360x288 with 1 Axes>"
      ]
     },
     "metadata": {
      "needs_background": "light"
     },
     "output_type": "display_data"
    },
    {
     "name": "stdout",
     "output_type": "stream",
     "text": [
      "ABROCA: 0.02627137346852321\n"
     ]
    }
   ],
   "source": [
    "run_eval('xAPI-Edu')"
   ]
  }
 ],
 "metadata": {
  "kernelspec": {
   "display_name": "Python 3",
   "language": "python",
   "name": "python3"
  },
  "language_info": {
   "codemirror_mode": {
    "name": "ipython",
    "version": 3
   },
   "file_extension": ".py",
   "mimetype": "text/x-python",
   "name": "python",
   "nbconvert_exporter": "python",
   "pygments_lexer": "ipython3",
   "version": "3.8.10 (default, Nov 14 2022, 12:59:47) \n[GCC 9.4.0]"
  },
  "vscode": {
   "interpreter": {
    "hash": "916dbcbb3f70747c44a77c7bcd40155683ae19c65e1c03b4aa3499c5328201f1"
   }
  }
 },
 "nbformat": 4,
 "nbformat_minor": 4
}
